{
 "cells": [
  {
   "cell_type": "markdown",
   "id": "cc2e5cf3",
   "metadata": {},
   "source": [
    "# My Notebook"
   ]
  },
  {
   "cell_type": "markdown",
   "id": "c00c2d7f",
   "metadata": {},
   "source": [
    "# Class\n"
   ]
  },
  {
   "cell_type": "code",
   "execution_count": 34,
   "id": "03ee6d7a",
   "metadata": {},
   "outputs": [
    {
     "name": "stdout",
     "output_type": "stream",
     "text": [
      "356\n"
     ]
    }
   ],
   "source": [
    "class Number:\n",
    "    num = 356\n",
    "    \n",
    "    def _init_(self,number):\n",
    "        self.num = number\n",
    "        \n",
    "    def read_number(self):\n",
    "        print(self.num)\n",
    "        \n",
    "obj = Number()\n",
    "obj.read_number()\n"
   ]
  },
  {
   "cell_type": "code",
   "execution_count": 35,
   "id": "f9272e84",
   "metadata": {},
   "outputs": [
    {
     "name": "stdout",
     "output_type": "stream",
     "text": [
      "Park Hyung Sik\n",
      "31\n",
      "South Korean\n"
     ]
    }
   ],
   "source": [
    "class Actor:    \n",
    "    def __init__(self,name,age,nationality):\n",
    "        self.name = name\n",
    "        self.age = age\n",
    "        self.n = nationality\n",
    "\n",
    "a1 = Actor(\"Park Hyung Sik\", 31, \"South Korean\")\n",
    "\n",
    "print(a1.name)\n",
    "print(a1.age)\n",
    "print(a1.n)"
   ]
  },
  {
   "cell_type": "code",
   "execution_count": 36,
   "id": "383c1dfa",
   "metadata": {},
   "outputs": [
    {
     "name": "stdout",
     "output_type": "stream",
     "text": [
      "CJ\n",
      "17\n",
      "Filipino\n"
     ]
    }
   ],
   "source": [
    "class Person:    \n",
    "    def __init__(self,name,age,nationality):\n",
    "        self.name = name\n",
    "        self.age = age\n",
    "        self.n = nationality\n",
    "\n",
    "p1 = Person(\"CJ\", 17, \"Filipino\")\n",
    "\n",
    "print(p1.name)\n",
    "print(p1.age)\n",
    "print(p1.n)"
   ]
  },
  {
   "cell_type": "markdown",
   "id": "061723ce",
   "metadata": {},
   "source": [
    "# Inheritance"
   ]
  },
  {
   "cell_type": "code",
   "execution_count": 37,
   "id": "1e591b99",
   "metadata": {},
   "outputs": [
    {
     "name": "stdout",
     "output_type": "stream",
     "text": [
      "I am a Car\n",
      "General Use: Transportation\n",
      "Specific Use: Commute to Work, Travel\n"
     ]
    }
   ],
   "source": [
    "class Vehicle:\n",
    "    def general_usage(self):\n",
    "        print(\"General Use: Transportation\")\n",
    "\n",
    "class Car(Vehicle):\n",
    "    def __init__(self):\n",
    "        print(\"I am a Car\")\n",
    "        self.wheels = 4\n",
    "        self.has_roof = True \n",
    "    \n",
    "    def specific_usage(self):\n",
    "        print(\"Specific Use: Commute to Work, Travel\")\n",
    "\n",
    "class Motorcycle(Vehicle):\n",
    "    def __init__(self):\n",
    "        print(\"I am a Motorcycle\")\n",
    "        self.wheels = 2\n",
    "        self.has_roof = False\n",
    "        \n",
    "    def specific_usage(self):\n",
    "        print(\"specific Use: Road trip, Racing\")\n",
    "        \n",
    "c = Car()\n",
    "c.general_usage()\n",
    "c.specific_usage()"
   ]
  },
  {
   "cell_type": "code",
   "execution_count": 38,
   "id": "6dac539b",
   "metadata": {},
   "outputs": [
    {
     "name": "stdout",
     "output_type": "stream",
     "text": [
      "I am a Motorcycle\n",
      "General Use: Transportation\n",
      "specific Use: Road trip, Racing\n"
     ]
    }
   ],
   "source": [
    "m = Motorcycle()\n",
    "m.general_usage()\n",
    "m.specific_usage()"
   ]
  },
  {
   "cell_type": "markdown",
   "id": "53ea9c25",
   "metadata": {
    "collapsed": true
   },
   "source": [
    "# Method Resolution Order (MRO)"
   ]
  },
  {
   "cell_type": "code",
   "execution_count": 39,
   "id": "0dbe816c",
   "metadata": {},
   "outputs": [
    {
     "name": "stdout",
     "output_type": "stream",
     "text": [
      "In class L\n"
     ]
    }
   ],
   "source": [
    "class C:\n",
    "    def num(self):\n",
    "        print(\"In class C\")\n",
    "class L(C):\n",
    "    def num(self):\n",
    "        print(\"In class L\")\n",
    "class A(C):\n",
    "    def num(self):\n",
    "        print(\"In class A\")\n",
    "class S(L, A):\n",
    "    pass\n",
    "\n",
    "n = S()\n",
    "n.num()"
   ]
  },
  {
   "cell_type": "code",
   "execution_count": 40,
   "id": "b4c63614",
   "metadata": {},
   "outputs": [
    {
     "name": "stdout",
     "output_type": "stream",
     "text": [
      "In class A\n"
     ]
    }
   ],
   "source": [
    "n = A()\n",
    "n.num()"
   ]
  },
  {
   "cell_type": "markdown",
   "id": "35f1094c",
   "metadata": {},
   "source": [
    "# Polymorphism"
   ]
  },
  {
   "cell_type": "code",
   "execution_count": 41,
   "id": "15e46500",
   "metadata": {},
   "outputs": [
    {
     "name": "stdout",
     "output_type": "stream",
     "text": [
      "Aw! Aw! Aw!\n",
      "I am a Dog. My name is Charlie. I am 6 years old.\n",
      "twit! twit! twit!\n",
      "I am a Bird. My name is Tweety. I am 2 years old.\n"
     ]
    }
   ],
   "source": [
    "class  Dog:\n",
    "    def __init__(self, name, age):\n",
    "        self.name = name\n",
    "        self.age = age\n",
    "    \n",
    "    def info(self):\n",
    "        print(f\"I am a Dog. My name is {self.name}. I am {self.age} years old.\")\n",
    "              \n",
    "    def sound(self):\n",
    "        print(\"Aw! Aw! Aw!\")\n",
    "\n",
    "class Bird:\n",
    "    def __init__(self, name, age):\n",
    "        self.name = name\n",
    "        self.age = age\n",
    "    \n",
    "    def info(self):\n",
    "        print(f\"I am a Bird. My name is {self.name}. I am {self.age} years old.\")\n",
    "    \n",
    "    def sound(self):\n",
    "        print(\"twit! twit! twit!\")\n",
    "              \n",
    "dog1 = Dog(\"Charlie\", 6)\n",
    "bird1 = Bird(\"Tweety\", 2)\n",
    "              \n",
    "for animal in (dog1, bird1):\n",
    "    animal.sound()\n",
    "    animal.info()\n",
    "    "
   ]
  }
 ],
 "metadata": {
  "kernelspec": {
   "display_name": "Python 3 (ipykernel)",
   "language": "python",
   "name": "python3"
  },
  "language_info": {
   "codemirror_mode": {
    "name": "ipython",
    "version": 3
   },
   "file_extension": ".py",
   "mimetype": "text/x-python",
   "name": "python",
   "nbconvert_exporter": "python",
   "pygments_lexer": "ipython3",
   "version": "3.9.13"
  }
 },
 "nbformat": 4,
 "nbformat_minor": 5
}
